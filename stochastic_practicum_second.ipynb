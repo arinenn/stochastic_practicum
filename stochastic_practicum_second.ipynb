{
 "cells": [
  {
   "cell_type": "markdown",
   "metadata": {},
   "source": [
    "# Практикум по стохастическому анализу. Часть №2"
   ]
  },
  {
   "cell_type": "markdown",
   "metadata": {},
   "source": [
    "Выполнил \\\n",
    "Пилюшенок Артур \\\n",
    "студент 415 группы ВМК МГУ"
   ]
  },
  {
   "cell_type": "code",
   "execution_count": 2,
   "metadata": {},
   "outputs": [],
   "source": [
    "import numpy as np                              # matrix calculations\n",
    "from matplotlib import pyplot as plt            # plotting\n",
    "from time import time                           # time of calculations\n",
    "\n",
    "# empirical cumulative distribution function, distributions and quantiles\n",
    "from scipy.stats import ecdf, norm, poisson, t, f, probplot, chi2\n",
    "\n",
    "# for integral\n",
    "from itertools import combinations_with_replacement\n",
    "from scipy.special import factorial"
   ]
  },
  {
   "cell_type": "code",
   "execution_count": 3,
   "metadata": {},
   "outputs": [],
   "source": [
    "def rand_expo(l, *args):\n",
    "    '''\n",
    "    Exponential distribution generator\n",
    "    returns tensor with given shapes\n",
    "    l - parameter, must be positive\n",
    "    args consists of positive integer numbers (resulting dimensions)\n",
    "    dimension error handling in np.random.rand\n",
    "    '''\n",
    "    if not l > 0:\n",
    "        raise ValueError('Parameter of exponential distribution must be a positive float number.')\n",
    "    return -np.log(np.random.rand(*args)) / l"
   ]
  },
  {
   "cell_type": "code",
   "execution_count": 4,
   "metadata": {},
   "outputs": [],
   "source": [
    "def rand_norm(loc, scale, *args):\n",
    "    '''\n",
    "    Standard normal distribution generator, derivative of rand_expo\n",
    "    returns tensor with given shapes\n",
    "    shapes error handling in rand_expo\n",
    "    '''\n",
    "    omega = rand_expo(0.5, *args)\n",
    "    alpha = 2 * np.pi * np.random.rand(*args)\n",
    "    return loc + scale * np.sqrt(omega) * np.cos(alpha)"
   ]
  },
  {
   "cell_type": "markdown",
   "metadata": {},
   "source": [
    "## Задание 7"
   ]
  },
  {
   "cell_type": "markdown",
   "metadata": {},
   "source": [
    "### Условие\n",
    "1. Методом случайного поиска найти минимальное значение функции $f$ на множестве $A = \\{(x_1,x_2):~x_1^2+x_2^2\\leqslant 1\\}$, где\n",
    "$$\n",
    "f(x_1,x_2) = x_1^3\\sin\\frac{1}{x_1} + 10x_1x_2^4\\cos\\frac{1}{x_2},\\quad x_1,x_2\\neq0.\n",
    "$$\n",
    "При $x_1=0$ или $x_2=0$ функция доопределяется по непрерывности.\n",
    "\n",
    "2. Методом имитации отжига найти минимальное значение функции Розенброка $g$ в пространстве $\\mathbb{R}^2$, где\n",
    "$$\n",
    "g(x) = (x_1-1)^2 + 100(x_2-x_1^2)^2.\n",
    "$$\n",
    "\n",
    "3. Оценить точность и сравнить результаты со стандартными методами оптимизации."
   ]
  },
  {
   "cell_type": "markdown",
   "metadata": {},
   "source": [
    "### Метод случайного поиска"
   ]
  },
  {
   "cell_type": "markdown",
   "metadata": {},
   "source": [
    "Метод случайного поиска минимального значения функции $f(x)$ на множестве $A$:\n",
    "1. Смоделировать выборку размера $n$ точек $x\\sim\\mathrm{U}\\{A\\}$ (равномерно распределены на множестве A)\n",
    "2. Выбрать ту реализацию случайной величины, на которой достигается наименьшее значение."
   ]
  },
  {
   "cell_type": "markdown",
   "metadata": {},
   "source": [
    "По условию задачи множество $A$ - круг единичного радиуса на плоскости $(x_1,x_2)$. Пусть $x=(x_1,x_2)\\sim\\mathrm{U}(A)$. По определению для любого борелевского множества $M$ выполняется ($\\mu$ - мера Лебега на плоскости)\n",
    "$$\n",
    "\\mathbb{P}\\left( (x_1,x_2)\\in M \\right) = \\dfrac{\\mu (M)}{\\mu (A)} = \\dfrac{1}{\\pi}\\iint\\limits_M dt_1dt_2 = \\begin{vmatrix}\n",
    "t_1 = r\\cos\\alpha \\\\\n",
    "t_2 = r\\sin\\alpha\n",
    "\\end{vmatrix} = \\dfrac{1}{\\pi}\\iint\\limits_M rdrd\\alpha = \\iint\\limits_M d(r^2)d\\left(\\frac{\\alpha}{2\\pi}\\right).\n",
    "$$\n",
    "\n",
    "Следовательно, будем моделировать\n",
    "$$\n",
    "\\begin{cases}\n",
    "x_1 = \\sqrt{\\omega}\\cos\\alpha \\\\\n",
    "x_2 = \\sqrt{\\omega}\\sin\\alpha\n",
    "\\end{cases}\n",
    "$$\n",
    "где $\\omega\\sim\\mathrm{U}[0,1], \\alpha\\sim\\mathrm{U}[0,2\\pi]$.\n"
   ]
  },
  {
   "cell_type": "markdown",
   "metadata": {},
   "source": [
    "Данная функция $f(x)=x_1^3\\sin\\frac{1}{x_1}+10x_1x_2^4\\cos\\frac{1}{x_2}$ обладает свойствами \n",
    "1. $f(x_1,-x_2)=f(x_1,x_2)$ (чётность по $x_2$)\n",
    "2. $f(-x_1,0)=f(x_1,0)=x_1^3\\sin\\frac{1}{x_1}$\n",
    "3. $f(0,0)=0$\n",
    "\n",
    "Следовательно, если $x^*=(x_1^*,x_2^*)$ доставляет минимум функции, то $(x_1^*,-x_2^*)$ также доставляет минимум. \\\n",
    "Минимум меньше нуля, ведь $f(0.123, 0.123) < 0$ (проверяется численно). \\\n",
    "Следовательно, функция $f$ имеет хотя бы две точки глобального минимума."
   ]
  },
  {
   "cell_type": "markdown",
   "metadata": {},
   "source": [
    "Пусть $\\varepsilon>0$ - наперед заданная точность вычислений. Пусть $x^*=(x_1^*,x_2^*)$ доставляет минимум функции $f(x_1,x_2)$. \\\n",
    "Оценим точность работы алгоритма при помощи многомерной теоремы Лагранжа\n",
    "$$\n",
    "|f(x) - f(x^*)| \\leqslant \\max\\limits_A \n",
    "\\sqrt{\\left(\\dfrac{\\partial f}{\\partial x_1}\\right)^2 + \\left(\\dfrac{\\partial f}{\\partial x_2}\\right)^2} \\cdot || x - x^* ||.\n",
    "$$\n",
    "\n",
    "Справедливы следующие оценки\n",
    "$$\n",
    "\\begin{aligned}\n",
    "\\left|\\dfrac{\\partial f}{\\partial x_1}\\right| &= \\left| 3x_1^2\\sin\\frac{1}{x_1} - x_1\\cos\\frac{1}{x_1} + 10x_2^4\\cos\\frac{1}{x_2}  \\right| \\leqslant 14. \\\\\n",
    "\\left|\\dfrac{\\partial f}{\\partial x_2}\\right| &= \\left| 40x_1x_2^3\\cos\\frac{1}{x_2} + 10x_1x_2^2\\sin\\frac{1}{x_2} \\right| \\leqslant 50.\n",
    "\\end{aligned}\n",
    "$$\n",
    "\n",
    "Далее выберем окрестность радиуса $\\delta$: $B_\\delta(x^*)=\\{ x: ||x-x^*||\\leqslant \\delta \\}$. \\\n",
    "Пусть $p$ - вероятность того, что в $B_\\delta(x^*)$ находится хотя бы одна точка выборки."
   ]
  },
  {
   "cell_type": "code",
   "execution_count": 5,
   "metadata": {},
   "outputs": [
    {
     "data": {
      "text/plain": [
       "np.float64(-0.03945204001712244)"
      ]
     },
     "execution_count": 5,
     "metadata": {},
     "output_type": "execute_result"
    }
   ],
   "source": [
    "f = lambda x: x[0]**3 * np.sin(1/x[0]) + 10 * x[0] * x[1] * np.cos(1/x[1])\n",
    "f([0.123, 0.123])"
   ]
  },
  {
   "cell_type": "code",
   "execution_count": 6,
   "metadata": {},
   "outputs": [
    {
     "data": {
      "text/plain": [
       "(np.int64(290164), np.float64(-2.9945813278025857))"
      ]
     },
     "execution_count": 6,
     "metadata": {},
     "output_type": "execute_result"
    }
   ],
   "source": [
    "def func(x):\n",
    "    # x \\in R^[n_points, 2]\n",
    "    eps = 1e-12\n",
    "    res = np.zeros((n_points, 2))\n",
    "    indic = ~(abs(x) < eps)\n",
    "    res[indic] = x[indic]\n",
    "    return res[:, 0] ** 3 * np.sin(1 / res[:, 0]) + 10 * res[:, 0] * res[:, 1] * np.cos(1 / res[:, 1])\n",
    "\n",
    "n_points = 10**6\n",
    "omega_sample = np.random.rand(n_points, 2)\n",
    "alpha_sample = np.random.rand(n_points, 2) * 2*np.pi\n",
    "x_sample = np.sqrt(omega_sample) * alpha_sample\n",
    "np.argmin(func(x_sample)), np.min(func(x_sample))"
   ]
  },
  {
   "cell_type": "markdown",
   "metadata": {},
   "source": [
    "### Метод имитации отжига"
   ]
  },
  {
   "cell_type": "code",
   "execution_count": 7,
   "metadata": {},
   "outputs": [
    {
     "data": {
      "text/plain": [
       "np.float64(0.041102588788348174)"
      ]
     },
     "execution_count": 7,
     "metadata": {},
     "output_type": "execute_result"
    }
   ],
   "source": [
    "def func_g(x):\n",
    "    return (x[0] - 1)**2 + 100 * (x[1] - x[0]**2)**2\n",
    "\n",
    "def choose_neighbour(s_i, T_i):\n",
    "    sigma = 0.25\n",
    "    return rand_norm(s_i, sigma * np.sqrt(T_i))\n",
    "\n",
    "def transfer_probability(d_F_i, T_i):\n",
    "    return np.exp(-d_F_i * T_i)\n",
    "\n",
    "def reduce_temperature(T_i):\n",
    "    k = 0.79\n",
    "    return k * T_i\n",
    "\n",
    "T = 0.01\n",
    "\n",
    "s_i = [1, 1]\n",
    "T_i = T\n",
    "func_last = 0\n",
    "iter_count = 1000\n",
    "\n",
    "for i in range(iter_count):\n",
    "    func_value = func_g(s_i)\n",
    "    transfer = transfer_probability(func_value - func_last, T_i)\n",
    "    neighbour = choose_neighbour(s_i, T_i)\n",
    "    if np.random.rand() < transfer:\n",
    "        s_i = choose_neighbour(s_i, T_i)\n",
    "    T_i = reduce_temperature(T_i)\n",
    "    func_last = func_value\n",
    "\n",
    "func_last"
   ]
  },
  {
   "cell_type": "markdown",
   "metadata": {},
   "source": [
    "### Сравнение методов"
   ]
  },
  {
   "cell_type": "markdown",
   "metadata": {},
   "source": [
    "## Задание 8"
   ]
  },
  {
   "cell_type": "markdown",
   "metadata": {},
   "source": [
    "### Условие\n",
    "1. Применить метод Монте-Карло к решению первой краевой задачи для двумерного уравнения Лапласа в единичном круге\n",
    "$$\n",
    "\\begin{cases}\n",
    "\\Delta u = 0,(x,y)\\in D \\\\\n",
    "u\\vert_{\\delta D} = f(x,y) \\\\\n",
    "u\\in C^2(D), f\\in C(\\delta D) \\\\\n",
    "D=\\{(x,y)\\in\\mathbb{R}^2: x^2+y^2\\leqslant 1 \\}\n",
    "\\end{cases}\n",
    "$$\n",
    "\n",
    "2. Для функции $f(x,y) = x^2-y^2$ найти аналитическое решение и сравнить с полученным по методу Монте-Карло."
   ]
  },
  {
   "cell_type": "code",
   "execution_count": null,
   "metadata": {},
   "outputs": [
    {
     "data": {
      "text/plain": [
       "array(<itertools.product object at 0x000001D2D785BAC0>, dtype=object)"
      ]
     },
     "execution_count": 25,
     "metadata": {},
     "output_type": "execute_result"
    }
   ],
   "source": [
    "import itertools\n",
    "\n",
    "def solve_Laplace(func, n_points, n_tests):\n",
    "\n",
    "    def find_nearest():\n",
    "        \n",
    "\n",
    "    carthesian_grid = list(itertools.product(np.linspace(-1, 1, n_points), repeat=2))\n",
    "\n",
    "\n",
    "n_points = 10 + 1\n",
    "step = \n",
    "carthesian_grid = list(itertools.product(np.linspace(-1, 1, n_points), repeat=2))\n",
    "\n",
    "for point in test:\n",
    "    x, y = point\n",
    "    if (abs(x) == 1 or abs(y) == 1):\n",
    "        continue\n",
    "    "
   ]
  },
  {
   "cell_type": "markdown",
   "metadata": {},
   "source": [
    "## Задание 9"
   ]
  },
  {
   "cell_type": "markdown",
   "metadata": {},
   "source": [
    "### Условие\n",
    "\n",
    "Рассмотреть два вида гауссовских процессов:\n",
    "\n",
    "- Винеровский процесс $W(t), t\\in[0,1], W(0)=0$\n",
    "\n",
    "- Процесс Орнштейна-Уленбека $X(t), t\\in[0,1], X(0)=X_0$, т.е. стационарный марковский гауссовский процесс. Начальные значения $X_0$ следует выбирать случайным образом так, чтобы полученный процесс был стационарным.\n",
    "\n",
    "Для данных процессов:\n",
    "\n",
    "1. Найти ковариационную функцию и переходные вероятности.\n",
    "\n",
    "2. Промоделировать независимые траектории процесса с данными переходными вероятностями методом добавления разбиения отрезка.\n",
    "\n",
    "3. Построить график траектории, не соединяя точки ломаной, с целью получения визуально непрерывной линии."
   ]
  },
  {
   "cell_type": "markdown",
   "metadata": {},
   "source": [
    "## Задание 10"
   ]
  },
  {
   "cell_type": "markdown",
   "metadata": {},
   "source": [
    "### Условие\n",
    "\n",
    "Произвести фильтрацию одномерного процесса Орнштейна-Уленбека:\n",
    "\n",
    "1. Используя генетор белого шума, добавить к реализации процесса Орнштейна-Уленбека случайную ошибку с заранее известной дисперсией.\n",
    "\n",
    "2. При помощи одномерного фильтра Калмана оценить траекторию процесса по зашумленному сигналу, считая известными параметры шума и процесса.\n",
    "\n",
    "3. Рассмотреть следующие виды шума:\n",
    "    1. Гауссов\n",
    "    2. Коши (шум имеет распределение Коши)"
   ]
  },
  {
   "cell_type": "markdown",
   "metadata": {},
   "source": [
    "## Задание 11"
   ]
  },
  {
   "cell_type": "markdown",
   "metadata": {},
   "source": [
    "### Условие\n",
    "\n",
    "Построить двумерное пуассоновское поле, отвечающее сложному пуассоновскому процессу:\n",
    "\n",
    "1. Система массового обслуживания. Первая координата поля - время поступления заявки в СМО (распределение равномерно), а вторая - время обслуживания заявки (распределение $\\chi^2$ с десятью степенями свободы).\n",
    "\n",
    "2. Система массового обслуживания с циклической интенсивностью $\\lambda(1+\\cos(t))$ и единичными скачками. При помощи метода Льюиса и Шедлеара, свести задачу моделирования неоднородного пуассоновского процесса к моделированию двумерного пуассоновского поля, где первая координата распределена равномерно, а вторая имеет распределение Бернулли.\n",
    "\n",
    "3. Работа страховой компании: первая координата - момент наступления страхового случая (равномерное распределение), вторая величина ущерба (распределение Парето). Поступление капитала считать линейным по времени со скоростью $c>0$, начальный капитал $W>0$."
   ]
  }
 ],
 "metadata": {
  "kernelspec": {
   "display_name": ".venv",
   "language": "python",
   "name": "python3"
  },
  "language_info": {
   "codemirror_mode": {
    "name": "ipython",
    "version": 3
   },
   "file_extension": ".py",
   "mimetype": "text/x-python",
   "name": "python",
   "nbconvert_exporter": "python",
   "pygments_lexer": "ipython3",
   "version": "3.9.13"
  }
 },
 "nbformat": 4,
 "nbformat_minor": 2
}
